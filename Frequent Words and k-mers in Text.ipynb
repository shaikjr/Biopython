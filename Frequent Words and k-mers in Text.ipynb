{
 "cells": [
  {
   "cell_type": "raw",
   "id": "3db83c24",
   "metadata": {},
   "source": [
    "A k-mer is just a sequence of k characters in a string (or nucleotides in a DNA sequence).\n",
    "We say that Pattern is a most frequent k-mer in Text if it maximizes Count ( Text, Pattern) among all k-mers."
   ]
  },
  {
   "cell_type": "code",
   "execution_count": 22,
   "id": "dcc89eda",
   "metadata": {},
   "outputs": [
    {
     "name": "stdout",
     "output_type": "stream",
     "text": [
      "Enter the sequence:ACAACTAAGCATCACTAACGGGAACTAACCT\n",
      "Ente the k value:5\n",
      "The kmers and frquencies:\n",
      "{'ACAAC': 1, 'CAACT': 1, 'AACTA': 2, 'ACTAA': 3, 'CTAAG': 1, 'TAAGC': 1, 'AAGCA': 1, 'AGCAT': 1, 'GCATC': 1, 'CATCA': 1, 'ATCAC': 1, 'TCACT': 1, 'CACTA': 1, 'CTAAC': 2, 'TAACG': 1, 'AACGG': 1, 'ACGGG': 1, 'CGGGA': 1, 'GGGAA': 1, 'GGAAC': 1, 'GAACT': 1, 'TAACC': 1, 'AACCT': 1}\n",
      "AACCT 1\n",
      "Most frequent k-mers: ACTAA  with frequency: 3\n"
     ]
    }
   ],
   "source": [
    "seq=input(\"Enter the sequence:\")\n",
    "lenghtOfSequences=len(seq)\n",
    "k=int(input(\"Ente the k value:\"))\n",
    "# formula k-mers = (lenghtOfSequences– k) + 1\n",
    "numberOfPossiblekmers=(lenghtOfSequences-k)+1\n",
    "kmers={}\n",
    "mer=''\n",
    "for i in range(numberOfPossiblekmers):\n",
    "    mer=seq[i:i+k]\n",
    "    if mer in kmers:\n",
    "        kmers[mer]=kmers[mer]+1\n",
    "    else:\n",
    "        kmers[mer]=1\n",
    "print(\"The kmers and frquencies:\")\n",
    "maxVal=0\n",
    "maxkey=''\n",
    "for i in kmers:\n",
    "    if kmers[i] >maxVal:\n",
    "        maxVal=kmers[i]\n",
    "        maxkey=i\n",
    "print(kmers)\n",
    "print(i,kmers[i])\n",
    "print(\"Most frequent k-mers:\", maxkey,\" with frequency:\",maxVal)"
   ]
  }
 ],
 "metadata": {
  "kernelspec": {
   "display_name": "Python 3 (ipykernel)",
   "language": "python",
   "name": "python3"
  },
  "language_info": {
   "codemirror_mode": {
    "name": "ipython",
    "version": 3
   },
   "file_extension": ".py",
   "mimetype": "text/x-python",
   "name": "python",
   "nbconvert_exporter": "python",
   "pygments_lexer": "ipython3",
   "version": "3.11.3"
  }
 },
 "nbformat": 4,
 "nbformat_minor": 5
}
