{
 "cells": [
  {
   "cell_type": "code",
   "execution_count": 12,
   "id": "c1c98dea",
   "metadata": {},
   "outputs": [
    {
     "name": "stdout",
     "output_type": "stream",
     "text": [
      "Enter the Sequence:TTTAGAGCCTTCAGAGC\n",
      "Enter the pattern:GAGG\n",
      "Enter the d value:2\n",
      "position: 2\n",
      "position: 4\n",
      "position: 11\n",
      "position: 13\n"
     ]
    }
   ],
   "source": [
    "seq=input(\"Enter the Sequence:\")\n",
    "pattern=input(\"Enter the pattern:\")\n",
    "d=int(input(\"Enter the d value:\"))\n",
    "possibleMoves=(len(seq)-len(pattern))+1\n",
    "for i in range(possibleMoves):\n",
    "    misMatch=0\n",
    "    match=0\n",
    "    for j in range(len(pattern)):\n",
    "        if seq[i+j]==pattern[j]:\n",
    "            match=match+1\n",
    "        else:\n",
    "            misMatch=misMatch+1\n",
    "    if match>= len(pattern)-d:\n",
    "        print('position:',i)"
   ]
  }
 ],
 "metadata": {
  "kernelspec": {
   "display_name": "Python 3 (ipykernel)",
   "language": "python",
   "name": "python3"
  },
  "language_info": {
   "codemirror_mode": {
    "name": "ipython",
    "version": 3
   },
   "file_extension": ".py",
   "mimetype": "text/x-python",
   "name": "python",
   "nbconvert_exporter": "python",
   "pygments_lexer": "ipython3",
   "version": "3.11.3"
  }
 },
 "nbformat": 4,
 "nbformat_minor": 5
}
