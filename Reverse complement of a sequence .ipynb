{
 "cells": [
  {
   "cell_type": "markdown",
   "id": "d0c9f5c6",
   "metadata": {},
   "source": [
    "The reverse complement of a DNA sequence is formed by reversing the letters, interchanging A and T and interchanging C and G"
   ]
  },
  {
   "cell_type": "code",
   "execution_count": null,
   "id": "39118309",
   "metadata": {},
   "outputs": [],
   "source": [
    "seq=input('Enter the sequence:')\n",
    "reverseSequence=seq[::-1]\n",
    "reverseComplementSequnce=''\n",
    "for ch in reverseSequence:\n",
    "    if ch == 'A':\n",
    "        reverseComplementSequnce=reverseComplementSequnce+'T'\n",
    "    if ch == 'T':\n",
    "        reverseComplementSequnce=reverseComplementSequnce+'A'\n",
    "    if ch == 'G':\n",
    "        reverseComplementSequnce=reverseComplementSequnce+'C'\n",
    "    if ch == 'C':\n",
    "        reverseComplementSequnce=reverseComplementSequnce+'G'\n",
    "print(\"The Given Sequence :\",seq)\n",
    "print(\"The Reverse of sequence:\",reverseSequence)\n",
    "print(\"The Reverse Complement of sequence:\",reverseComplementSequnce)"
   ]
  }
 ],
 "metadata": {
  "kernelspec": {
   "display_name": "Python 3 (ipykernel)",
   "language": "python",
   "name": "python3"
  },
  "language_info": {
   "codemirror_mode": {
    "name": "ipython",
    "version": 3
   },
   "file_extension": ".py",
   "mimetype": "text/x-python",
   "name": "python",
   "nbconvert_exporter": "python",
   "pygments_lexer": "ipython3",
   "version": "3.11.3"
  }
 },
 "nbformat": 4,
 "nbformat_minor": 5
}
